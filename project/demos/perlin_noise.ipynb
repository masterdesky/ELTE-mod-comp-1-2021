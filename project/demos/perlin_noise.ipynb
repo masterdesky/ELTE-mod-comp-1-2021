{
 "cells": [
  {
   "cell_type": "markdown",
   "metadata": {},
   "source": [
    "# Perlin noise simulations"
   ]
  },
  {
   "cell_type": "code",
   "execution_count": null,
   "metadata": {},
   "outputs": [],
   "source": [
    "import os\n",
    "import pickle\n",
    "import numpy as np\n",
    "import pandas as pd\n",
    "\n",
    "#from tqdm import tqdm, trange\n",
    "\n",
    "import seaborn as sns\n",
    "import matplotlib as mpl\n",
    "import matplotlib.cm as cm\n",
    "import matplotlib.pyplot as plt\n",
    "import matplotlib.ticker as plticker\n",
    "import matplotlib.gridspec as gridspec"
   ]
  },
  {
   "cell_type": "code",
   "execution_count": null,
   "metadata": {},
   "outputs": [],
   "source": [
    "OUTDIR = '../out/'\n",
    "DATADIR = '../data/'"
   ]
  },
  {
   "cell_type": "markdown",
   "metadata": {},
   "source": [
    "### Just some matplotlib and seaborn parameter tuning"
   ]
  },
  {
   "cell_type": "code",
   "execution_count": null,
   "metadata": {},
   "outputs": [],
   "source": [
    "axistitlesize = 20\n",
    "axisticksize = 17\n",
    "axislabelsize = 26\n",
    "axislegendsize = 23\n",
    "axistextsize = 20\n",
    "axiscbarfontsize = 15\n",
    "\n",
    "# Set axtick dimensions\n",
    "major_size = 6\n",
    "major_width = 1.2\n",
    "minor_size = 3\n",
    "minor_width = 1\n",
    "mpl.rcParams['xtick.major.size'] = major_size\n",
    "mpl.rcParams['xtick.major.width'] = major_width\n",
    "mpl.rcParams['xtick.minor.size'] = minor_size\n",
    "mpl.rcParams['xtick.minor.width'] = minor_width\n",
    "mpl.rcParams['ytick.major.size'] = major_size\n",
    "mpl.rcParams['ytick.major.width'] = major_width\n",
    "mpl.rcParams['ytick.minor.size'] = minor_size\n",
    "mpl.rcParams['ytick.minor.width'] = minor_width\n",
    "\n",
    "mpl.rcParams.update({'figure.autolayout': False})\n",
    "\n",
    "# Seaborn style settings\n",
    "sns.set_style({'axes.axisbelow': True,\n",
    "               'axes.edgecolor': '.8',\n",
    "               'axes.facecolor': 'white',\n",
    "               'axes.grid': True,\n",
    "               'axes.labelcolor': '.15',\n",
    "               'axes.spines.bottom': True,\n",
    "               'axes.spines.left': True,\n",
    "               'axes.spines.right': True,\n",
    "               'axes.spines.top': True,\n",
    "               'figure.facecolor': 'white',\n",
    "               'font.family': ['sans-serif'],\n",
    "               'font.sans-serif': ['Arial',\n",
    "                'DejaVu Sans',\n",
    "                'Liberation Sans',\n",
    "                'Bitstream Vera Sans',\n",
    "                'sans-serif'],\n",
    "               'grid.color': '.8',\n",
    "               'grid.linestyle': '--',\n",
    "               'image.cmap': 'rocket',\n",
    "               'lines.solid_capstyle': 'round',\n",
    "               'patch.edgecolor': 'w',\n",
    "               'patch.force_edgecolor': True,\n",
    "               'text.color': '.15',\n",
    "               'xtick.bottom': True,\n",
    "               'xtick.color': '.15',\n",
    "               'xtick.direction': 'in',\n",
    "               'xtick.top': True,\n",
    "               'ytick.color': '.15',\n",
    "               'ytick.direction': 'in',\n",
    "               'ytick.left': True,\n",
    "               'ytick.right': True})\n",
    "\n",
    "# Colorpalettes, colormaps, etc.\n",
    "sns.set_palette(palette='rocket')\n",
    "rocket_cmap = sns.color_palette('rocket', as_cmap=True)"
   ]
  },
  {
   "cell_type": "code",
   "execution_count": null,
   "metadata": {},
   "outputs": [],
   "source": [
    "def get_main_grid(prefix):\n",
    "    return pd.read_csv(DATADIR + 'main_grid_{}.dat'.format(prefix),\n",
    "                       names=['x', 'y'], usecols=[0,1])\n",
    "def get_sub_grid(prefix):\n",
    "    return pd.read_csv(DATADIR + 'sub_grid_{}.dat'.format(prefix),\n",
    "                       names=['x', 'y'], usecols=[0,1])\n",
    "def get_cell_corners(prefix):\n",
    "    return pd.read_csv(DATADIR + 'cell_corners_{}.dat'.format(prefix),\n",
    "                       names=['u_left', 'u_right', 'b_left', 'b_right'], usecols=[0,1,2,3])\n",
    "def get_grad_field(prefix):\n",
    "    return pd.read_csv(DATADIR + 'gradient_field_{}.dat'.format(prefix),\n",
    "                       names=['x', 'y'], usecols=[0,1])\n",
    "def get_dot_field(prefix):\n",
    "    return pd.read_csv(DATADIR + 'dot_grid_{}.dat'.format(prefix),\n",
    "                       names=['x1', 'x2', 'x3', 'x4'], usecols=[0,1,2,3])\n",
    "def get_ngp(prefix):\n",
    "    return np.genfromtxt(DATADIR + 'ngp_{}.dat'.format(prefix), delimiter=',')[:-1]\n",
    "def get_interp_grid(prefix):\n",
    "    return np.genfromtxt(DATADIR + 'interp_grid_{}.dat'.format(prefix), delimiter=',')[:-1]\n",
    "def get_flow_field(prefix):\n",
    "    return pd.read_csv(DATADIR + 'flow_field_{}.dat'.format(prefix),\n",
    "                       names=['x', 'y'], usecols=[0,1])"
   ]
  },
  {
   "cell_type": "code",
   "execution_count": null,
   "metadata": {
    "tags": []
   },
   "outputs": [],
   "source": [
    "def get_coords(nrows, ncols,\n",
    "               main, sub, grad, flow):\n",
    "    \n",
    "    # Create coord. system\n",
    "    yc = np.arange(0,nrows,1)\n",
    "    xc = np.arange(0,ncols,1)\n",
    "\n",
    "    # Load in main grid coordinates\n",
    "    x = main.x.values\n",
    "    y = main.y.values\n",
    "    \n",
    "    # Load in sub grid coordinates\n",
    "    xs = sub.x.values\n",
    "    ys = sub.y.values\n",
    "    \n",
    "    # Load in gradient field vectors\n",
    "    xg = grad.x.values\n",
    "    yg = grad.y.values\n",
    "    \n",
    "    # Load flow field vectors\n",
    "    xf = flow.x.values\n",
    "    yf = flow.y.values\n",
    "    \n",
    "    return x,y,xs,ys,xg,yg,xf,yf"
   ]
  },
  {
   "cell_type": "code",
   "execution_count": null,
   "metadata": {},
   "outputs": [],
   "source": [
    "def get_ngp_for_dot(ngp, dot):\n",
    "    \n",
    "    i = pd.Series(['x{}'.format(int(gp+1)) for gp in ngp])\n",
    "    \n",
    "    return dot.lookup(i.index, i.values)"
   ]
  },
  {
   "cell_type": "code",
   "execution_count": null,
   "metadata": {},
   "outputs": [],
   "source": [
    "def load_data(prefix):\n",
    "    \n",
    "    main = get_main_grid(prefix)\n",
    "    sub = get_sub_grid(prefix)\n",
    "    cells = get_cell_corners(prefix)\n",
    "    grad = get_grad_field(prefix)\n",
    "    dot = get_dot_field(prefix)\n",
    "    #ngp = get_ngp(prefix)\n",
    "    interp = get_interp_grid(prefix)\n",
    "    flow = get_flow_field(prefix)\n",
    "    \n",
    "    return main, sub, cells, grad, dot, interp, flow"
   ]
  },
  {
   "cell_type": "code",
   "execution_count": null,
   "metadata": {},
   "outputs": [],
   "source": [
    "# Size of grid\n",
    "freq_i = 0\n",
    "freqs = 2\n",
    "nrows = 3 * 2**(freq_i)\n",
    "ncols = 3 * 2**(freq_i)\n",
    "res = 100"
   ]
  },
  {
   "cell_type": "code",
   "execution_count": null,
   "metadata": {},
   "outputs": [],
   "source": [
    "data = [load_data(prefix='{}'.format(2**i)) for i in range(0,freqs)]\n",
    "dots_x1 = [d[-3]['x1'].values.reshape(res, res) for d in data]\n",
    "dots_x2 = [d[-3]['x2'].values.reshape(res, res) for d in data]\n",
    "dots_x3 = [d[-3]['x3'].values.reshape(res, res) for d in data]\n",
    "dots_x4 = [d[-3]['x4'].values.reshape(res, res) for d in data]\n",
    "interps = [d[-2].reshape(res, res) for d in data]"
   ]
  },
  {
   "cell_type": "code",
   "execution_count": null,
   "metadata": {},
   "outputs": [],
   "source": [
    "#analyzetree"
   ]
  },
  {
   "cell_type": "code",
   "execution_count": null,
   "metadata": {},
   "outputs": [],
   "source": [
    "x,y,xs,ys,xg,yg,xf,yf = get_coords(nrows=nrows, ncols=ncols,\n",
    "                                   main=data[freq_i][0], sub=data[freq_i][1], grad=data[freq_i][3], flow=data[freq_i][6])"
   ]
  },
  {
   "cell_type": "code",
   "execution_count": null,
   "metadata": {},
   "outputs": [],
   "source": [
    "fig, axes = plt.subplots(figsize=(30,30),\n",
    "                         facecolor='black')\n",
    "axes.set_aspect('equal')\n",
    "axes.axis('off')\n",
    "\n",
    "for i in range(nrows):\n",
    "    for j in range(ncols):\n",
    "        k = i * ncols + j\n",
    "        axes.arrow(x=x[k], y=y[k], dx=xg[k], dy=yg[k],\n",
    "                   color='tab:red', head_width=0.1, head_length=0.1, zorder=4)\n",
    "\n",
    "# Draw coordinate grid points and gridlines between these points\n",
    "plt.scatter(x, y,\n",
    "            color='white', s=(15)**2)\n",
    "\n",
    "for i in range(ncols):\n",
    "    axes.plot([i, i], [0, nrows-1],\n",
    "              color='white', ls='--', lw=4, alpha=0.3)\n",
    "for i in range(nrows):\n",
    "    axes.plot([0, ncols-1], [i, i],\n",
    "              color='white', ls='--', lw=4, alpha=0.3)\n",
    "\n",
    "save_format = 'png'\n",
    "plt.savefig(OUTDIR + 'perlin_mg_nr{}_nc{}_px{}.{}'.format(nrows, ncols, res, save_format),\n",
    "            format=save_format,\n",
    "            dpi=100,\n",
    "            facecolor='black',\n",
    "            bbox_inches='tight')\n",
    "\n",
    "plt.show()"
   ]
  },
  {
   "cell_type": "code",
   "execution_count": null,
   "metadata": {},
   "outputs": [],
   "source": [
    "fig, axes = plt.subplots(figsize=(30,30),\n",
    "                         facecolor='black')\n",
    "axes.set_aspect('equal')\n",
    "axes.axis('off')\n",
    "\n",
    "#for i in range(nrows):\n",
    "#    for j in range(ncols):\n",
    "#        k = i * ncols + j\n",
    "#        axes.arrow(x=x[k], y=y[k], dx=xg[k], dy=yg[k],\n",
    "#                   color='tab:red', head_width=0.1, head_length=0.1, zorder=4)\n",
    "\n",
    "# Draw coordinate grid points and gridlines between these points\n",
    "plt.scatter(x, y,\n",
    "            color='white', s=(15)**2)\n",
    "plt.scatter(xs, ys,\n",
    "            color=cm.magma(0.85), s=(3)**2, alpha=0.3)\n",
    "\n",
    "for i in range(ncols):\n",
    "    axes.plot([i, i], [0, nrows-1],\n",
    "              color='white', ls='--', lw=4, alpha=0.3)\n",
    "for i in range(nrows):\n",
    "    axes.plot([0, ncols-1], [i, i],\n",
    "              color='white', ls='--', lw=4, alpha=0.3)\n",
    "\n",
    "# Mark the borders of the last cell\n",
    "# (Should be seen in the upper right corner)\n",
    "#for c in cells.iloc[-1]:\n",
    "#    plt.scatter(coords.iloc[c].x, coords.iloc[c].y,\n",
    "#                color='tab:green', s=(10)**2)\n",
    "    \n",
    "save_format = 'png'\n",
    "plt.savefig(OUTDIR + 'perlin_ms_nr{}_nc{}_px{}.{}'.format(nrows, ncols, res, save_format),\n",
    "            format=save_format,\n",
    "            dpi=100,\n",
    "            facecolor='black',\n",
    "            bbox_inches='tight')\n",
    "\n",
    "plt.show()"
   ]
  },
  {
   "cell_type": "code",
   "execution_count": null,
   "metadata": {},
   "outputs": [],
   "source": [
    "if res <= 100:\n",
    "    fig, axes = plt.subplots(figsize=(30,30),\n",
    "                             facecolor='black')\n",
    "    axes.set_aspect('equal')\n",
    "    axes.axis('off')\n",
    "\n",
    "    for i in range(res):\n",
    "        for j in range(res):\n",
    "            k = i * res + j\n",
    "            descale = 40\n",
    "            axes.arrow(x=xs[k], y=ys[k], dx=xf[k]/descale, dy=yf[k]/descale,\n",
    "                       color='white', head_width=0.02, head_length=0.02, alpha=0.5, zorder=4)\n",
    "\n",
    "    save_format = 'png'\n",
    "    plt.savefig(OUTDIR + 'perlin_f_nr{}_nc{}_px{}.{}'.format(nrows, ncols, res, save_format),\n",
    "                format=save_format,\n",
    "                dpi=100,\n",
    "                facecolor='black',\n",
    "                bbox_inches='tight')\n",
    "\n",
    "    plt.show()"
   ]
  },
  {
   "cell_type": "code",
   "execution_count": null,
   "metadata": {},
   "outputs": [],
   "source": [
    "fig, axes = plt.subplots(figsize=(30,30),\n",
    "                         facecolor='black')\n",
    "axes.set_aspect('equal')\n",
    "axes.axis('off')\n",
    "\n",
    "axes.imshow(dots_x4[freq_i][::-1],\n",
    "            extent=(0,ncols-1,0,nrows-1),\n",
    "            cmap=cm.Greys)\n",
    "\n",
    "save_format = 'png'\n",
    "plt.savefig(OUTDIR + 'perlin_d_nr{}_nc{}_px{}.{}'.format(nrows, ncols, res, save_format),\n",
    "            format=save_format,\n",
    "            dpi=100,\n",
    "            facecolor='black',\n",
    "            bbox_inches='tight')\n",
    "\n",
    "plt.show()"
   ]
  },
  {
   "cell_type": "code",
   "execution_count": null,
   "metadata": {},
   "outputs": [],
   "source": [
    "fig, axes = plt.subplots(figsize=(30,30),\n",
    "                         facecolor='black')\n",
    "axes.set_aspect('equal')\n",
    "axes.axis('off')\n",
    "\n",
    "for i, perlin in enumerate(interps):\n",
    "    axes.imshow(perlin[::-1],\n",
    "                extent=(0,ncols-1,0,nrows-1),\n",
    "                cmap=cm.Greys)\n",
    "\n",
    "    plt.savefig(OUTDIR + 'perlin_i{}_nr{}_nc{}_px{}.png'.format(i, nrows, ncols, res),\n",
    "                format='png',\n",
    "                dpi=100,\n",
    "                facecolor='black',\n",
    "                bbox_inches='tight')\n",
    "\n",
    "plt.show()"
   ]
  },
  {
   "cell_type": "code",
   "execution_count": null,
   "metadata": {},
   "outputs": [],
   "source": [
    "fig, axes = plt.subplots(nrows=2, ncols=2, figsize=(ncols*8, nrows*8),\n",
    "                         facecolor='black')\n",
    "\n",
    "\n",
    "for ax, i in zip(axes.reshape(-1), interps):\n",
    "    ax.set_aspect('equal')\n",
    "    ax.axis('off')\n",
    "\n",
    "    ax.imshow(i[::-1], extent=(0,ncols-1,0,nrows-1),\n",
    "              cmap=cm.Greys)\n",
    "\n",
    "plt.savefig(OUTDIR + 'perlin_i_nr{}_nc{}_px{}.png'.format(nrows, ncols, res),\n",
    "            format='png',\n",
    "            dpi=100,\n",
    "            facecolor='black',\n",
    "            bbox_inches='tight')\n",
    "\n",
    "plt.show()"
   ]
  },
  {
   "cell_type": "code",
   "execution_count": null,
   "metadata": {},
   "outputs": [],
   "source": [
    "fig, axes = plt.subplots(figsize=(30,30),\n",
    "                         facecolor='black')\n",
    "axes.set_aspect('equal')\n",
    "axes.axis('off')\n",
    "\n",
    "fractal = np.zeros((res,res))\n",
    "smooth = 2\n",
    "for i, perlin in enumerate(interps):\n",
    "    fractal += perlin*(1/smooth**i)\n",
    "axes.imshow(fractal[::-1],\n",
    "            extent=(0,ncols-1,0,nrows-1),\n",
    "            cmap=cm.Greys)\n",
    "\n",
    "plt.savefig(OUTDIR + 'perlin_iadd_nr{}_nc{}_px{}.png'.format(nrows, ncols, res),\n",
    "            format='png',\n",
    "            dpi=100,\n",
    "            facecolor='black',\n",
    "            bbox_inches='tight')\n",
    "\n",
    "plt.show()"
   ]
  },
  {
   "cell_type": "markdown",
   "metadata": {},
   "source": [
    "## Trace particles"
   ]
  },
  {
   "cell_type": "code",
   "execution_count": null,
   "metadata": {},
   "outputs": [],
   "source": [
    "PART_DIR = DATADIR + 'particles/'"
   ]
  },
  {
   "cell_type": "code",
   "execution_count": null,
   "metadata": {},
   "outputs": [],
   "source": [
    "def get_particle_pos():\n",
    "    pos_x = np.genfromtxt(PART_DIR + 'pos_x.dat', delimiter=',')[:,:-1]\n",
    "    pos_y = np.genfromtxt(PART_DIR + 'pos_y.dat', delimiter=',')[:,:-1]\n",
    "    return pos_x, pos_y\n",
    "def get_particle_vel():\n",
    "    vel_x = np.genfromtxt(PART_DIR + 'vel_x.dat', delimiter=',')[:,:-1]\n",
    "    vel_y = np.genfromtxt(PART_DIR + 'vel_y.dat', delimiter=',')[:,:-1]\n",
    "    return vel_x, vel_y\n",
    "def get_particle_acc():\n",
    "    acc_x = np.genfromtxt(PART_DIR + 'acc_x.dat', delimiter=',')[:,:-1]\n",
    "    acc_y = np.genfromtxt(PART_DIR + 'acc_y.dat', delimiter=',')[:,:-1]\n",
    "    return acc_x, acc_y"
   ]
  },
  {
   "cell_type": "code",
   "execution_count": null,
   "metadata": {},
   "outputs": [],
   "source": [
    "pos_x, pos_y = get_particle_pos()"
   ]
  },
  {
   "cell_type": "code",
   "execution_count": null,
   "metadata": {},
   "outputs": [],
   "source": [
    "fig, axes = plt.subplots(figsize=(ncols*5, nrows*5),\n",
    "                         facecolor='black', subplot_kw={'facecolor' : 'white'})\n",
    "#axes.set_aspect('equal')\n",
    "axes.axis('off')\n",
    "\n",
    "#axes.imshow(interps[0][::-1], extent=(0,ncols-1,0,nrows-1),\n",
    "#            cmap=cm.Greys)\n",
    "\n",
    "# Color lists from here: https://github.com/punkduckable/PerlinFlowField/blob/main/Perlin_Flow_Field.py\n",
    "#color_list = ['#005074','#58CBFF','#00B0FF','#285F78','#008AC8','#FFFFFF'];             # Shades of Blue\n",
    "#color_list = ['#740050','#FF58CB','#FF00B0','#78285F','#C8008A','#FFFFFF'];             # Shades of Pink\n",
    "#color_list = ['#16835E', '#50FF66', '#20782B', '#00C819', '#FFFFFF'];                   # Shades of Green\n",
    "color_list = ['#219417','#B2EAAD', '#9CF179', '#086742', '#DAF0E0', '#15785D'];         # Greens and Teals ('#E8F0CB')\n",
    "#color_list = ['#000000', '#000000', '#f28400', '#ff2e00', '#bd2200', '#901a00'];        # Lava (run with 3000+ particles or black background)\n",
    "size_list = [55, 67, 69, 79]\n",
    "xscale = (ncols-1)/(res-1)\n",
    "yscale = (nrows-1)/(res-1)\n",
    "for i in range(pos_x.shape[1]):\n",
    "    plt.scatter(pos_x[:,i]*xscale, pos_y[:,i]*yscale,\n",
    "                color=np.random.choice(color_list), edgecolor = 'None',\n",
    "                s=np.random.choice(size_list), alpha=0.6)\n",
    "\n",
    "save = True\n",
    "if save:\n",
    "    plt.savefig(OUTDIR + 'perlin_parts1_nr{}_nc{}_px{}.png'.format(nrows, ncols, res),\n",
    "                format='png',\n",
    "                dpi=100,\n",
    "                facecolor='black')\n",
    "\n",
    "plt.show()"
   ]
  },
  {
   "cell_type": "code",
   "execution_count": null,
   "metadata": {},
   "outputs": [],
   "source": []
  },
  {
   "cell_type": "code",
   "execution_count": null,
   "metadata": {},
   "outputs": [],
   "source": []
  }
 ],
 "metadata": {
  "kernelspec": {
   "display_name": "Python 3 (ipykernel)",
   "language": "python",
   "name": "python3"
  },
  "language_info": {
   "codemirror_mode": {
    "name": "ipython",
    "version": 3
   },
   "file_extension": ".py",
   "mimetype": "text/x-python",
   "name": "python",
   "nbconvert_exporter": "python",
   "pygments_lexer": "ipython3",
   "version": "3.10.9"
  }
 },
 "nbformat": 4,
 "nbformat_minor": 4
}
