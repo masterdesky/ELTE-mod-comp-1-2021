{
 "cells": [
  {
   "cell_type": "markdown",
   "id": "4e362742-8586-4d09-a85d-aab8380efbc5",
   "metadata": {},
   "source": [
    "# Main and subgrid generation demo"
   ]
  },
  {
   "cell_type": "code",
   "execution_count": 1,
   "id": "f8dde409-5a84-4e25-ac2b-d93fe8ab39e7",
   "metadata": {},
   "outputs": [],
   "source": [
    "import numpy as np\n",
    "import matplotlib.pyplot as plt"
   ]
  },
  {
   "cell_type": "code",
   "execution_count": 2,
   "id": "178b9b7e-cde8-4658-80af-f6e820578bc7",
   "metadata": {},
   "outputs": [],
   "source": [
    "out = './out/'\n",
    "data = './data/'"
   ]
  },
  {
   "cell_type": "code",
   "execution_count": 51,
   "id": "ab4405e5-492b-47ae-b411-4ae1e4b98ee3",
   "metadata": {},
   "outputs": [],
   "source": [
    "nrows = 5\n",
    "ncols = 4\n",
    "res = 20"
   ]
  },
  {
   "cell_type": "code",
   "execution_count": 52,
   "id": "92612fef-7622-4423-9232-3b90cb360b2d",
   "metadata": {},
   "outputs": [],
   "source": [
    "def set_grid(nrows, ncols, stepx, stepy):\n",
    "    grid = np.zeros((nrows*ncols, 2))\n",
    "    # Calculate coordinates of grid points\n",
    "    for i in range(nrows):\n",
    "        for j in range(ncols):\n",
    "            grid[i * ncols + j] = np.array((j*stepx, i*stepy))\n",
    "            \n",
    "    return grid"
   ]
  },
  {
   "cell_type": "code",
   "execution_count": 53,
   "id": "2eccad0f-65dc-4d35-981d-69b0c93620ef",
   "metadata": {},
   "outputs": [],
   "source": [
    "main_grid = set_grid(nrows, ncols, 1, 1)\n",
    "sub_grid = set_grid(res, res, (ncols-1)/(res-1), (nrows-1)/(res-1))"
   ]
  },
  {
   "cell_type": "code",
   "execution_count": 54,
   "id": "19c512ed-27db-4a0d-8524-47de538676bb",
   "metadata": {},
   "outputs": [
    {
     "data": {
      "image/png": "[encoded data removed]",
      "text/plain": [
       "<Figure size 720x720 with 1 Axes>"
      ]
     },
     "metadata": {
      "needs_background": "light"
     },
     "output_type": "display_data"
    }
   ],
   "source": [
    "fig, axes = plt.subplots(figsize=(10,10))\n",
    "axes.set_aspect('equal')\n",
    "axes.axis('off')\n",
    "\n",
    "# Draw coordinate grid points and gridlines between these points\n",
    "axes.scatter(main_grid[:,0], main_grid[:,1],\n",
    "             color='grey', s=8**2, zorder=2)\n",
    "axes.scatter(sub_grid[:,0], sub_grid[:,1],\n",
    "             color='green', s=6**2, alpha=0.5, zorder=2)\n",
    "\n",
    "for i in range(ncols):\n",
    "    axes.plot([i, i], [0, (nrows-1)],\n",
    "              color='grey', ls='--', lw=2, zorder=1)\n",
    "for i in range(nrows):\n",
    "    axes.plot([0, (ncols-1)], [i, i],\n",
    "              color='grey', ls='--', lw=2, zorder=1)\n",
    "\n",
    "plt.show()"
   ]
  },
  {
   "cell_type": "code",
   "execution_count": null,
   "id": "4d0e977a-ee97-4544-8232-e695c761d642",
   "metadata": {},
   "outputs": [],
   "source": []
  },
  {
   "cell_type": "code",
   "execution_count": null,
   "id": "dbff9306-581d-4332-9c2c-e25fd22d2464",
   "metadata": {},
   "outputs": [],
   "source": []
  }
 ],
 "metadata": {
  "kernelspec": {
   "display_name": "Python 3",
   "language": "python",
   "name": "python3"
  },
  "language_info": {
   "codemirror_mode": {
    "name": "ipython",
    "version": 3
   },
   "file_extension": ".py",
   "mimetype": "text/x-python",
   "name": "python",
   "nbconvert_exporter": "python",
   "pygments_lexer": "ipython3",
   "version": "3.9.2"
  }
 },
 "nbformat": 4,
 "nbformat_minor": 5
}
