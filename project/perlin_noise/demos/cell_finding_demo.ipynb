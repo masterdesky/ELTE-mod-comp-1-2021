{
 "cells": [
  {
   "cell_type": "markdown",
   "id": "b9c59e8c-a280-4485-8f84-a22933c0f815",
   "metadata": {},
   "source": [
    "# Cell finding demo"
   ]
  },
  {
   "cell_type": "code",
   "execution_count": 1,
   "id": "3704fe60-7e8a-4230-858a-8f16ed7e54d0",
   "metadata": {},
   "outputs": [],
   "source": [
    "import numpy as np\n",
    "\n",
    "import seaborn as sns\n",
    "import matplotlib as mpl\n",
    "import matplotlib.cm as cm\n",
    "import matplotlib.pyplot as plt\n",
    "import matplotlib.ticker as plticker\n",
    "import matplotlib.gridspec as gridspec"
   ]
  },
  {
   "cell_type": "code",
   "execution_count": 2,
   "id": "1725fdc8-6539-4f0c-80bd-cf4b6541d89e",
   "metadata": {},
   "outputs": [],
   "source": [
    "out = './out/'\n",
    "data = './data/'"
   ]
  },
  {
   "cell_type": "markdown",
   "id": "e1a4b2c5-aaba-4009-9cc1-888336a1dd5d",
   "metadata": {},
   "source": [
    "### Just some matplotlib and seaborn parameter tuning"
   ]
  },
  {
   "cell_type": "code",
   "execution_count": 3,
   "id": "a3127e4c-cf95-4f3e-a77c-baebb424e710",
   "metadata": {},
   "outputs": [],
   "source": [
    "axistitlesize = 20\n",
    "axisticksize = 17\n",
    "axislabelsize = 26\n",
    "axislegendsize = 23\n",
    "axistextsize = 20\n",
    "axiscbarfontsize = 15\n",
    "\n",
    "# Set axtick dimensions\n",
    "major_size = 6\n",
    "major_width = 1.2\n",
    "minor_size = 3\n",
    "minor_width = 1\n",
    "mpl.rcParams['xtick.major.size'] = major_size\n",
    "mpl.rcParams['xtick.major.width'] = major_width\n",
    "mpl.rcParams['xtick.minor.size'] = minor_size\n",
    "mpl.rcParams['xtick.minor.width'] = minor_width\n",
    "mpl.rcParams['ytick.major.size'] = major_size\n",
    "mpl.rcParams['ytick.major.width'] = major_width\n",
    "mpl.rcParams['ytick.minor.size'] = minor_size\n",
    "mpl.rcParams['ytick.minor.width'] = minor_width\n",
    "\n",
    "mpl.rcParams.update({'figure.autolayout': False})\n",
    "\n",
    "# Seaborn style settings\n",
    "sns.set_style({'axes.axisbelow': True,\n",
    "               'axes.edgecolor': '.8',\n",
    "               'axes.facecolor': 'white',\n",
    "               'axes.grid': True,\n",
    "               'axes.labelcolor': '.15',\n",
    "               'axes.spines.bottom': True,\n",
    "               'axes.spines.left': True,\n",
    "               'axes.spines.right': True,\n",
    "               'axes.spines.top': True,\n",
    "               'figure.facecolor': 'white',\n",
    "               'font.family': ['sans-serif'],\n",
    "               'font.sans-serif': ['Arial',\n",
    "                'DejaVu Sans',\n",
    "                'Liberation Sans',\n",
    "                'Bitstream Vera Sans',\n",
    "                'sans-serif'],\n",
    "               'grid.color': '.8',\n",
    "               'grid.linestyle': '--',\n",
    "               'image.cmap': 'rocket',\n",
    "               'lines.solid_capstyle': 'round',\n",
    "               'patch.edgecolor': 'w',\n",
    "               'patch.force_edgecolor': True,\n",
    "               'text.color': '.15',\n",
    "               'xtick.bottom': True,\n",
    "               'xtick.color': '.15',\n",
    "               'xtick.direction': 'in',\n",
    "               'xtick.top': True,\n",
    "               'ytick.color': '.15',\n",
    "               'ytick.direction': 'in',\n",
    "               'ytick.left': True,\n",
    "               'ytick.right': True})\n",
    "\n",
    "# Colorpalettes, colormaps, etc.\n",
    "sns.set_palette(palette='rocket')\n",
    "rocket_cmap = sns.color_palette('rocket', as_cmap=True)"
   ]
  },
  {
   "cell_type": "code",
   "execution_count": 52,
   "id": "b991cd99-68d3-43b2-8a10-61e7662fdc97",
   "metadata": {},
   "outputs": [],
   "source": [
    "nrows = 10\n",
    "ncols = 10\n",
    "step = 0.1"
   ]
  },
  {
   "cell_type": "code",
   "execution_count": 53,
   "id": "43741357-db12-4d47-8313-df5ef435feff",
   "metadata": {},
   "outputs": [],
   "source": [
    "def set_main_grid(nrows, ncols, step):\n",
    "    main_grid = np.zeros((nrows*ncols, 2))\n",
    "    # Calculate coordinates of grid points\n",
    "    for i in range(nrows):\n",
    "        for j in range(ncols):\n",
    "            main_grid[i * ncols + j] = np.array((j*step, i*step))\n",
    "            \n",
    "    return main_grid"
   ]
  },
  {
   "cell_type": "code",
   "execution_count": 54,
   "id": "66bc91a0-ebbf-465d-b6df-c7f323b20ed4",
   "metadata": {},
   "outputs": [],
   "source": [
    "def set_cell_corners(nrows, ncols):\n",
    "    crows = nrows - 1\n",
    "    ccols = ncols - 1\n",
    "    cell_corners = np.zeros((crows*ccols,4), dtype=int)\n",
    "    \n",
    "    #Iterate over all points, except the last row and the last column.\n",
    "    #The iteration is basically over the possible upper left corners for a cell.\n",
    "    for i in range(crows):\n",
    "        for j in range(ccols):\n",
    "            idx = i * ccols + j\n",
    "            c = i * ncols + j\n",
    "\n",
    "            cell_corners[idx] = np.array((c, c+1, c+ncols, c+ncols+1))\n",
    "            \n",
    "    return cell_corners"
   ]
  },
  {
   "cell_type": "code",
   "execution_count": 55,
   "id": "c90ef49e-07ab-4b49-bfd3-dd02837c83df",
   "metadata": {},
   "outputs": [],
   "source": [
    "def get_current_cell(p, nrows, ncols, step,\n",
    "                     cell_corners):\n",
    "    ix = (int)(p[0] / step)\n",
    "    iy = (int)(p[1] / step)\n",
    "    # Correct for points on borders\n",
    "    if(ix == ncols-1): ix = ncols-2\n",
    "    if(iy == nrows-1): iy = nrows-2\n",
    "\n",
    "    return cell_corners[iy * (ncols-1) + ix]"
   ]
  },
  {
   "cell_type": "code",
   "execution_count": 58,
   "id": "f41edfc8-b735-4f08-837e-e66c4ee1c587",
   "metadata": {},
   "outputs": [],
   "source": [
    "p = np.array((0.69*(ncols*step), 0.42*(nrows*step)))\n",
    "\n",
    "main_grid = set_main_grid(nrows, ncols, step)\n",
    "cell_corners = set_cell_corners(nrows, ncols)\n",
    "cell = get_current_cell(p, nrows, ncols, step,\n",
    "                        cell_corners)"
   ]
  },
  {
   "cell_type": "code",
   "execution_count": 59,
   "id": "81f35dbf-a484-4094-8d5e-7df756243150",
   "metadata": {},
   "outputs": [
    {
     "data": {
      "image/png": "[encoded data removed]",
      "text/plain": [
       "<Figure size 720x720 with 1 Axes>"
      ]
     },
     "metadata": {},
     "output_type": "display_data"
    }
   ],
   "source": [
    "fig, axes = plt.subplots(figsize=(10,10))\n",
    "axes.set_aspect('equal')\n",
    "axes.axis('off')\n",
    "\n",
    "axes.scatter(main_grid[:,0], main_grid[:,1],\n",
    "             color='grey', s=10**2, zorder=2)\n",
    "\n",
    "for c in cell:\n",
    "    axes.scatter(main_grid[c,0], main_grid[c,1],\n",
    "                 color='tab:green', s=10**2, zorder=3)\n",
    "\n",
    "for i in range(ncols):\n",
    "    axes.plot([i*step, i*step], [0, (nrows-1)*step],\n",
    "              color='grey', ls='--', lw=2, zorder=1)\n",
    "for i in range(nrows):\n",
    "    axes.plot([0, (ncols-1)*step], [i*step, i*step],\n",
    "              color='grey', ls='--', lw=2, zorder=1)\n",
    "    \n",
    "axes.scatter(p[0], p[1],\n",
    "             color='tab:red', marker='x', lw=4, s=15**2, zorder=4)\n",
    "    \n",
    "plt.show()"
   ]
  },
  {
   "cell_type": "code",
   "execution_count": null,
   "id": "9a61e43b-0563-44c2-8f3c-de4bd52ecf80",
   "metadata": {},
   "outputs": [],
   "source": []
  }
 ],
 "metadata": {
  "kernelspec": {
   "display_name": "Python 3",
   "language": "python",
   "name": "python3"
  },
  "language_info": {
   "codemirror_mode": {
    "name": "ipython",
    "version": 3
   },
   "file_extension": ".py",
   "mimetype": "text/x-python",
   "name": "python",
   "nbconvert_exporter": "python",
   "pygments_lexer": "ipython3",
   "version": "3.9.2"
  }
 },
 "nbformat": 4,
 "nbformat_minor": 5
}
